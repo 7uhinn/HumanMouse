{
 "cells": [
  {
   "cell_type": "code",
   "execution_count": 1,
   "metadata": {},
   "outputs": [],
   "source": [
    "import cv2\n",
    "import numpy as np #importing libraries"
   ]
  },
  {
   "cell_type": "markdown",
   "metadata": {},
   "source": [
    "ubRGB = np.uint8([[[0,255,201]]])\n",
    "uB = cv2.cvtColor(ubRGB,cv2.COLOR_BGR2HSV)\n",
    "lbRGB = np.uint8([[[82,67,77]]])\n",
    "lB = cv2.cvtColor(lbRGB,cv2.COLOR_BGR2HSV)\n",
    "lB #lower and upper bound of HSV values for red (object color)"
   ]
  },
  {
   "cell_type": "code",
   "execution_count": 2,
   "metadata": {},
   "outputs": [],
   "source": [
    "lB=np.array([124,80,40])\n",
    "uB=np.array([179,255,255]) #lower and upper bound of HSV values for red (object color)"
   ]
  },
  {
   "cell_type": "code",
   "execution_count": 3,
   "metadata": {},
   "outputs": [],
   "source": [
    "cam = cv2.VideoCapture(0) #Video Capture Start"
   ]
  },
  {
   "cell_type": "code",
   "execution_count": 4,
   "metadata": {},
   "outputs": [],
   "source": [
    "ret, img = cam.read() #Image Captured"
   ]
  },
  {
   "cell_type": "code",
   "execution_count": 5,
   "metadata": {},
   "outputs": [],
   "source": [
    "img = cv2.resize(img,(340,220)) #Image frame size defines"
   ]
  },
  {
   "cell_type": "code",
   "execution_count": 6,
   "metadata": {},
   "outputs": [],
   "source": [
    "imgHSV = cv2.cvtColor(img,cv2.COLOR_BGR2HSV) #Image color scheme set to HSV"
   ]
  },
  {
   "cell_type": "code",
   "execution_count": 7,
   "metadata": {},
   "outputs": [],
   "source": [
    "mask = cv2.inRange(imgHSV,lB,uB) #Mask obtained"
   ]
  },
  {
   "cell_type": "code",
   "execution_count": 8,
   "metadata": {},
   "outputs": [
    {
     "data": {
      "text/plain": [
       "-1"
      ]
     },
     "execution_count": 8,
     "metadata": {},
     "output_type": "execute_result"
    }
   ],
   "source": [
    "cv2.imshow(\"mask\",mask)\n",
    "cv2.imshow(\"cam\",img)\n",
    "cv2.waitKey(10) "
   ]
  },
  {
   "cell_type": "code",
   "execution_count": 9,
   "metadata": {},
   "outputs": [],
   "source": [
    "kernelOpen=np.ones((5,5))\n",
    "kernelClose=np.ones((20,20))\n",
    "\n",
    "maskOpen=cv2.morphologyEx(mask,cv2.MORPH_OPEN,kernelOpen)\n",
    "maskClose=cv2.morphologyEx(maskOpen,cv2.MORPH_CLOSE,kernelClose)"
   ]
  },
  {
   "cell_type": "code",
   "execution_count": 10,
   "metadata": {},
   "outputs": [
    {
     "data": {
      "text/plain": [
       "-1"
      ]
     },
     "execution_count": 10,
     "metadata": {},
     "output_type": "execute_result"
    }
   ],
   "source": [
    "cv2.imshow(\"maskClose\",maskClose)\n",
    "cv2.imshow(\"maskOpen\",maskOpen)\n",
    "cv2.waitKey(10)"
   ]
  },
  {
   "cell_type": "code",
   "execution_count": 11,
   "metadata": {},
   "outputs": [
    {
     "data": {
      "text/plain": [
       "array([[[214, 223, 234],\n",
       "        [211, 224, 234],\n",
       "        [202, 228, 233],\n",
       "        ...,\n",
       "        [223, 240, 255],\n",
       "        [226, 242, 255],\n",
       "        [219, 240, 253]],\n",
       "\n",
       "       [[197, 210, 219],\n",
       "        [212, 225, 235],\n",
       "        [212, 228, 236],\n",
       "        ...,\n",
       "        [224, 244, 255],\n",
       "        [220, 239, 254],\n",
       "        [222, 241, 255]],\n",
       "\n",
       "       [[209, 220, 231],\n",
       "        [204, 213, 221],\n",
       "        [205, 214, 218],\n",
       "        ...,\n",
       "        [225, 244, 254],\n",
       "        [229, 247, 255],\n",
       "        [219, 241, 254]],\n",
       "\n",
       "       ...,\n",
       "\n",
       "       [[111, 113, 120],\n",
       "        [117, 119, 123],\n",
       "        [113, 121, 121],\n",
       "        ...,\n",
       "        [123, 145, 154],\n",
       "        [173, 188, 191],\n",
       "        [192, 207, 214]],\n",
       "\n",
       "       [[112, 113, 113],\n",
       "        [125, 122, 122],\n",
       "        [111, 114, 111],\n",
       "        ...,\n",
       "        [141, 156, 159],\n",
       "        [174, 187, 190],\n",
       "        [188, 202, 209]],\n",
       "\n",
       "       [[115, 115, 111],\n",
       "        [111, 106, 108],\n",
       "        [123, 119, 126],\n",
       "        ...,\n",
       "        [154, 176, 176],\n",
       "        [166, 188, 188],\n",
       "        [184, 201, 202]]], dtype=uint8)"
      ]
     },
     "execution_count": 11,
     "metadata": {},
     "output_type": "execute_result"
    }
   ],
   "source": [
    "maskFinal=maskClose\n",
    "conts,h=cv2.findContours(maskFinal.copy(),cv2.RETR_EXTERNAL,cv2.CHAIN_APPROX_NONE)\n",
    "cv2.drawContours(img,conts,-1,(255,0,0),3)"
   ]
  },
  {
   "cell_type": "code",
   "execution_count": 12,
   "metadata": {},
   "outputs": [],
   "source": [
    "temp = []\n",
    "for i in range(len(conts)):\n",
    "    x,y,w,h=cv2.boundingRect(conts[i])\n",
    "    temp.append(cv2.rectangle(img,(x,y),(x+w,y+h),(0,0,255), 2))\n",
    "    \n",
    "    #cv2.cv.PutText(cv2.cv.fromarray(img), str(i+1),(x,y+h),font,(0,255,255))"
   ]
  },
  {
   "cell_type": "code",
   "execution_count": 13,
   "metadata": {},
   "outputs": [
    {
     "data": {
      "text/plain": [
       "-1"
      ]
     },
     "execution_count": 13,
     "metadata": {},
     "output_type": "execute_result"
    }
   ],
   "source": [
    "cv2.imshow('some',temp[0])\n",
    "cv2.waitKey(10)"
   ]
  },
  {
   "cell_type": "code",
   "execution_count": null,
   "metadata": {},
   "outputs": [],
   "source": []
  }
 ],
 "metadata": {
  "kernelspec": {
   "display_name": "Python 3.7.6 64-bit",
   "language": "python",
   "name": "python37664bit9fbd9a291fe845b583e3929d89b95f15"
  },
  "language_info": {
   "codemirror_mode": {
    "name": "ipython",
    "version": 3
   },
   "file_extension": ".py",
   "mimetype": "text/x-python",
   "name": "python",
   "nbconvert_exporter": "python",
   "pygments_lexer": "ipython3",
   "version": "3.7.6"
  }
 },
 "nbformat": 4,
 "nbformat_minor": 4
}
