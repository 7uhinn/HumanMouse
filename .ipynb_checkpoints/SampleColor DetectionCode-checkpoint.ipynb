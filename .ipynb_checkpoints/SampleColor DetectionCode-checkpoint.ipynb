{
 "cells": [
  {
   "cell_type": "code",
   "execution_count": 1,
   "metadata": {},
   "outputs": [],
   "source": [
    "import cv2\n",
    "import numpy as np #importing libraries"
   ]
  },
  {
   "cell_type": "markdown",
   "metadata": {},
   "source": [
    "ubRGB = np.uint8([[[0,255,201]]])\n",
    "uB = cv2.cvtColor(ubRGB,cv2.COLOR_BGR2HSV)\n",
    "lbRGB = np.uint8([[[82,67,77]]])\n",
    "lB = cv2.cvtColor(lbRGB,cv2.COLOR_BGR2HSV)\n",
    "lB #lower and upper bound of HSV values for red (object color)"
   ]
  },
  {
   "cell_type": "code",
   "execution_count": 2,
   "metadata": {},
   "outputs": [],
   "source": [
    "lB=np.array([124,80,40])\n",
    "uB=np.array([179,255,255]) #lower and upper bound of HSV values for red (object color)"
   ]
  },
  {
   "cell_type": "code",
   "execution_count": 3,
   "metadata": {},
   "outputs": [],
   "source": [
    "cam = cv2.VideoCapture(0) #Video Capture Start"
   ]
  },
  {
   "cell_type": "code",
   "execution_count": 4,
   "metadata": {},
   "outputs": [],
   "source": [
    "ret, img = cam.read() #Image Captured"
   ]
  },
  {
   "cell_type": "code",
   "execution_count": 5,
   "metadata": {},
   "outputs": [],
   "source": [
    "img = cv2.resize(img,(340,220)) #Image frame size defines"
   ]
  },
  {
   "cell_type": "code",
   "execution_count": 6,
   "metadata": {},
   "outputs": [],
   "source": [
    "imgHSV = cv2.cvtColor(img,cv2.COLOR_BGR2HSV) #Image color scheme set to HSV"
   ]
  },
  {
   "cell_type": "code",
   "execution_count": 7,
   "metadata": {},
   "outputs": [],
   "source": [
    "mask = cv2.inRange(imgHSV,lB,uB) #Mask obtained"
   ]
  },
  {
   "cell_type": "code",
   "execution_count": 8,
   "metadata": {},
   "outputs": [
    {
     "data": {
      "text/plain": [
       "-1"
      ]
     },
     "execution_count": 8,
     "metadata": {},
     "output_type": "execute_result"
    }
   ],
   "source": [
    "cv2.imshow(\"mask\",mask)\n",
    "cv2.imshow(\"cam\",img)\n",
    "cv2.waitKey(10) "
   ]
  },
  {
   "cell_type": "code",
   "execution_count": 9,
   "metadata": {},
   "outputs": [],
   "source": [
    "kernelOpen=np.ones((5,5))\n",
    "kernelClose=np.ones((20,20))\n",
    "\n",
    "maskOpen=cv2.morphologyEx(mask,cv2.MORPH_OPEN,kernelOpen)\n",
    "maskClose=cv2.morphologyEx(maskOpen,cv2.MORPH_CLOSE,kernelClose)"
   ]
  },
  {
   "cell_type": "code",
   "execution_count": 10,
   "metadata": {},
   "outputs": [
    {
     "data": {
      "text/plain": [
       "-1"
      ]
     },
     "execution_count": 10,
     "metadata": {},
     "output_type": "execute_result"
    }
   ],
   "source": [
    "cv2.imshow(\"maskClose\",maskClose)\n",
    "cv2.imshow(\"maskOpen\",maskOpen)\n",
    "cv2.waitKey(10)"
   ]
  },
  {
   "cell_type": "code",
   "execution_count": 11,
   "metadata": {},
   "outputs": [
    {
     "data": {
      "text/plain": [
       "[array([[[182,  99]],\n",
       " \n",
       "        [[181, 100]],\n",
       " \n",
       "        [[180, 100]],\n",
       " \n",
       "        [[179, 101]],\n",
       " \n",
       "        [[178, 101]],\n",
       " \n",
       "        [[177, 101]],\n",
       " \n",
       "        [[176, 101]],\n",
       " \n",
       "        [[175, 101]],\n",
       " \n",
       "        [[174, 101]],\n",
       " \n",
       "        [[174, 102]],\n",
       " \n",
       "        [[174, 103]],\n",
       " \n",
       "        [[174, 104]],\n",
       " \n",
       "        [[174, 105]],\n",
       " \n",
       "        [[175, 106]],\n",
       " \n",
       "        [[175, 107]],\n",
       " \n",
       "        [[175, 108]],\n",
       " \n",
       "        [[175, 109]],\n",
       " \n",
       "        [[175, 110]],\n",
       " \n",
       "        [[175, 111]],\n",
       " \n",
       "        [[175, 112]],\n",
       " \n",
       "        [[175, 113]],\n",
       " \n",
       "        [[175, 114]],\n",
       " \n",
       "        [[175, 115]],\n",
       " \n",
       "        [[175, 116]],\n",
       " \n",
       "        [[175, 117]],\n",
       " \n",
       "        [[175, 118]],\n",
       " \n",
       "        [[175, 119]],\n",
       " \n",
       "        [[175, 120]],\n",
       " \n",
       "        [[175, 121]],\n",
       " \n",
       "        [[175, 122]],\n",
       " \n",
       "        [[175, 123]],\n",
       " \n",
       "        [[175, 124]],\n",
       " \n",
       "        [[175, 125]],\n",
       " \n",
       "        [[175, 126]],\n",
       " \n",
       "        [[175, 127]],\n",
       " \n",
       "        [[175, 128]],\n",
       " \n",
       "        [[176, 129]],\n",
       " \n",
       "        [[176, 130]],\n",
       " \n",
       "        [[176, 131]],\n",
       " \n",
       "        [[176, 132]],\n",
       " \n",
       "        [[176, 133]],\n",
       " \n",
       "        [[176, 134]],\n",
       " \n",
       "        [[176, 135]],\n",
       " \n",
       "        [[176, 136]],\n",
       " \n",
       "        [[176, 137]],\n",
       " \n",
       "        [[176, 138]],\n",
       " \n",
       "        [[176, 139]],\n",
       " \n",
       "        [[177, 140]],\n",
       " \n",
       "        [[178, 140]],\n",
       " \n",
       "        [[179, 140]],\n",
       " \n",
       "        [[180, 140]],\n",
       " \n",
       "        [[181, 140]],\n",
       " \n",
       "        [[182, 140]],\n",
       " \n",
       "        [[183, 141]],\n",
       " \n",
       "        [[183, 142]],\n",
       " \n",
       "        [[184, 142]],\n",
       " \n",
       "        [[185, 142]],\n",
       " \n",
       "        [[186, 142]],\n",
       " \n",
       "        [[187, 142]],\n",
       " \n",
       "        [[187, 141]],\n",
       " \n",
       "        [[187, 140]],\n",
       " \n",
       "        [[187, 139]],\n",
       " \n",
       "        [[187, 138]],\n",
       " \n",
       "        [[187, 137]],\n",
       " \n",
       "        [[187, 136]],\n",
       " \n",
       "        [[187, 135]],\n",
       " \n",
       "        [[187, 134]],\n",
       " \n",
       "        [[187, 133]],\n",
       " \n",
       "        [[187, 132]],\n",
       " \n",
       "        [[186, 131]],\n",
       " \n",
       "        [[186, 130]],\n",
       " \n",
       "        [[186, 129]],\n",
       " \n",
       "        [[186, 128]],\n",
       " \n",
       "        [[186, 127]],\n",
       " \n",
       "        [[186, 126]],\n",
       " \n",
       "        [[186, 125]],\n",
       " \n",
       "        [[186, 124]],\n",
       " \n",
       "        [[186, 123]],\n",
       " \n",
       "        [[186, 122]],\n",
       " \n",
       "        [[186, 121]],\n",
       " \n",
       "        [[186, 120]],\n",
       " \n",
       "        [[186, 119]],\n",
       " \n",
       "        [[186, 118]],\n",
       " \n",
       "        [[186, 117]],\n",
       " \n",
       "        [[186, 116]],\n",
       " \n",
       "        [[186, 115]],\n",
       " \n",
       "        [[186, 114]],\n",
       " \n",
       "        [[186, 113]],\n",
       " \n",
       "        [[186, 112]],\n",
       " \n",
       "        [[186, 111]],\n",
       " \n",
       "        [[186, 110]],\n",
       " \n",
       "        [[186, 109]],\n",
       " \n",
       "        [[186, 108]],\n",
       " \n",
       "        [[186, 107]],\n",
       " \n",
       "        [[186, 106]],\n",
       " \n",
       "        [[186, 105]],\n",
       " \n",
       "        [[186, 104]],\n",
       " \n",
       "        [[186, 103]],\n",
       " \n",
       "        [[186, 102]],\n",
       " \n",
       "        [[186, 101]],\n",
       " \n",
       "        [[186, 100]],\n",
       " \n",
       "        [[186,  99]],\n",
       " \n",
       "        [[185,  99]],\n",
       " \n",
       "        [[184,  99]],\n",
       " \n",
       "        [[183,  99]]], dtype=int32)]"
      ]
     },
     "execution_count": 11,
     "metadata": {},
     "output_type": "execute_result"
    }
   ],
   "source": [
    "maskFinal=maskClose\n",
    "conts,h=cv2.findContours(maskFinal.copy(),cv2.RETR_EXTERNAL,cv2.CHAIN_APPROX_NONE)\n",
    "cv2.drawContours(img,conts,-1,(255,0,0),3)"
   ]
  },
  {
   "cell_type": "code",
   "execution_count": 12,
   "metadata": {},
   "outputs": [
    {
     "name": "stdout",
     "output_type": "stream",
     "text": [
      "[[[176 192 202]\n",
      "  [180 195 208]\n",
      "  [168 183 193]\n",
      "  ...\n",
      "  [190 202 208]\n",
      "  [193 206 216]\n",
      "  [191 208 225]]\n",
      "\n",
      " [[180 193 203]\n",
      "  [177 187 202]\n",
      "  [190 192 213]\n",
      "  ...\n",
      "  [189 206 214]\n",
      "  [193 202 213]\n",
      "  [196 204 220]]\n",
      "\n",
      " [[183 185 211]\n",
      "  [187 191 209]\n",
      "  [187 190 206]\n",
      "  ...\n",
      "  [191 209 221]\n",
      "  [188 199 212]\n",
      "  [200 208 228]]\n",
      "\n",
      " ...\n",
      "\n",
      " [[153 156 162]\n",
      "  [160 164 170]\n",
      "  [157 163 165]\n",
      "  ...\n",
      "  [163 170 182]\n",
      "  [165 165 180]\n",
      "  [165 167 180]]\n",
      "\n",
      " [[143 154 160]\n",
      "  [146 157 160]\n",
      "  [144 158 155]\n",
      "  ...\n",
      "  [164 170 181]\n",
      "  [160 166 176]\n",
      "  [159 169 183]]\n",
      "\n",
      " [[146 156 159]\n",
      "  [141 153 159]\n",
      "  [142 155 168]\n",
      "  ...\n",
      "  [162 171 184]\n",
      "  [162 173 181]\n",
      "  [148 160 175]]]\n"
     ]
    }
   ],
   "source": [
    "temp = []\n",
    "for i in range(len(conts)):\n",
    "    x,y,w,h=cv2.boundingRect(conts[i])\n",
    "    temp.append(cv2.rectangle(img,(x,y),(x+w,y+h),(0,0,255), 2))\n",
    "    \n",
    "    #cv2.cv.PutText(cv2.cv.fromarray(img), str(i+1),(x,y+h),font,(0,255,255))\n",
    "cv2.imshow('',temp[0])"
   ]
  },
  {
   "cell_type": "code",
   "execution_count": null,
   "metadata": {},
   "outputs": [],
   "source": []
  },
  {
   "cell_type": "code",
   "execution_count": null,
   "metadata": {},
   "outputs": [],
   "source": []
  }
 ],
 "metadata": {
  "kernelspec": {
   "display_name": "Python 3.7.6 64-bit",
   "language": "python",
   "name": "python37664bit9fbd9a291fe845b583e3929d89b95f15"
  },
  "language_info": {
   "codemirror_mode": {
    "name": "ipython",
    "version": 3
   },
   "file_extension": ".py",
   "mimetype": "text/x-python",
   "name": "python",
   "nbconvert_exporter": "python",
   "pygments_lexer": "ipython3",
   "version": "3.7.6"
  }
 },
 "nbformat": 4,
 "nbformat_minor": 4
}
